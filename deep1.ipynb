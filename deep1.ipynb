{
  "nbformat": 4,
  "nbformat_minor": 0,
  "metadata": {
    "colab": {
      "provenance": []
    },
    "kernelspec": {
      "name": "python3",
      "display_name": "Python 3"
    },
    "language_info": {
      "name": "python"
    }
  },
  "cells": [
    {
      "cell_type": "code",
      "execution_count": null,
      "metadata": {
        "id": "6afSBm_QNu_8"
      },
      "outputs": [],
      "source": [
        " from google.colab import auth\n",
        "import gspread\n",
        "from google.auth import default\n",
        "import pandas as pd\n",
        "\n",
        "from sklearn.model_selection import train_test_split\n",
        "from sklearn.preprocessing import MinMaxScaler\n",
        "from tensorflow.keras.models import Sequential\n",
        "from tensorflow.keras.layers import Dense"
      ]
    },
    {
      "cell_type": "code",
      "source": [
        "auth.authenticate_user()\n",
        "creds, _ = default()\n",
        "gc = gspread.authorize(creds)\n",
        "\n"
      ],
      "metadata": {
        "id": "9CIAKd78RtAx"
      },
      "execution_count": null,
      "outputs": []
    },
    {
      "cell_type": "code",
      "source": [
        "worksheet = gc.open('deep1').sheet1\n",
        "\n",
        "rows = worksheet.get_all_values()\n"
      ],
      "metadata": {
        "id": "I7CCI37PSSH4"
      },
      "execution_count": null,
      "outputs": []
    },
    {
      "cell_type": "code",
      "source": [
        "df = pd.DataFrame(rows[1:], columns=rows[0])\n",
        "df = df.astype({'input':'float'})\n",
        "df = df.astype({'output':'float'})\n",
        "df.head()"
      ],
      "metadata": {
        "colab": {
          "base_uri": "https://localhost:8080/",
          "height": 206
        },
        "id": "YvfMQ0M1S0aL",
        "outputId": "52134b95-6171-4ec3-a0e9-e24f3515b21d"
      },
      "execution_count": null,
      "outputs": [
        {
          "output_type": "execute_result",
          "data": {
            "text/plain": [
              "   input  output\n",
              "0    1.0    20.0\n",
              "1    2.0    21.0\n",
              "2    3.0    22.0\n",
              "3    4.0    23.0\n",
              "4    5.0    24.0"
            ],
            "text/html": [
              "\n",
              "  <div id=\"df-d53c2ae3-d482-41e4-afce-45cfafcaeb86\" class=\"colab-df-container\">\n",
              "    <div>\n",
              "<style scoped>\n",
              "    .dataframe tbody tr th:only-of-type {\n",
              "        vertical-align: middle;\n",
              "    }\n",
              "\n",
              "    .dataframe tbody tr th {\n",
              "        vertical-align: top;\n",
              "    }\n",
              "\n",
              "    .dataframe thead th {\n",
              "        text-align: right;\n",
              "    }\n",
              "</style>\n",
              "<table border=\"1\" class=\"dataframe\">\n",
              "  <thead>\n",
              "    <tr style=\"text-align: right;\">\n",
              "      <th></th>\n",
              "      <th>input</th>\n",
              "      <th>output</th>\n",
              "    </tr>\n",
              "  </thead>\n",
              "  <tbody>\n",
              "    <tr>\n",
              "      <th>0</th>\n",
              "      <td>1.0</td>\n",
              "      <td>20.0</td>\n",
              "    </tr>\n",
              "    <tr>\n",
              "      <th>1</th>\n",
              "      <td>2.0</td>\n",
              "      <td>21.0</td>\n",
              "    </tr>\n",
              "    <tr>\n",
              "      <th>2</th>\n",
              "      <td>3.0</td>\n",
              "      <td>22.0</td>\n",
              "    </tr>\n",
              "    <tr>\n",
              "      <th>3</th>\n",
              "      <td>4.0</td>\n",
              "      <td>23.0</td>\n",
              "    </tr>\n",
              "    <tr>\n",
              "      <th>4</th>\n",
              "      <td>5.0</td>\n",
              "      <td>24.0</td>\n",
              "    </tr>\n",
              "  </tbody>\n",
              "</table>\n",
              "</div>\n",
              "    <div class=\"colab-df-buttons\">\n",
              "\n",
              "  <div class=\"colab-df-container\">\n",
              "    <button class=\"colab-df-convert\" onclick=\"convertToInteractive('df-d53c2ae3-d482-41e4-afce-45cfafcaeb86')\"\n",
              "            title=\"Convert this dataframe to an interactive table.\"\n",
              "            style=\"display:none;\">\n",
              "\n",
              "  <svg xmlns=\"http://www.w3.org/2000/svg\" height=\"24px\" viewBox=\"0 -960 960 960\">\n",
              "    <path d=\"M120-120v-720h720v720H120Zm60-500h600v-160H180v160Zm220 220h160v-160H400v160Zm0 220h160v-160H400v160ZM180-400h160v-160H180v160Zm440 0h160v-160H620v160ZM180-180h160v-160H180v160Zm440 0h160v-160H620v160Z\"/>\n",
              "  </svg>\n",
              "    </button>\n",
              "\n",
              "  <style>\n",
              "    .colab-df-container {\n",
              "      display:flex;\n",
              "      gap: 12px;\n",
              "    }\n",
              "\n",
              "    .colab-df-convert {\n",
              "      background-color: #E8F0FE;\n",
              "      border: none;\n",
              "      border-radius: 50%;\n",
              "      cursor: pointer;\n",
              "      display: none;\n",
              "      fill: #1967D2;\n",
              "      height: 32px;\n",
              "      padding: 0 0 0 0;\n",
              "      width: 32px;\n",
              "    }\n",
              "\n",
              "    .colab-df-convert:hover {\n",
              "      background-color: #E2EBFA;\n",
              "      box-shadow: 0px 1px 2px rgba(60, 64, 67, 0.3), 0px 1px 3px 1px rgba(60, 64, 67, 0.15);\n",
              "      fill: #174EA6;\n",
              "    }\n",
              "\n",
              "    .colab-df-buttons div {\n",
              "      margin-bottom: 4px;\n",
              "    }\n",
              "\n",
              "    [theme=dark] .colab-df-convert {\n",
              "      background-color: #3B4455;\n",
              "      fill: #D2E3FC;\n",
              "    }\n",
              "\n",
              "    [theme=dark] .colab-df-convert:hover {\n",
              "      background-color: #434B5C;\n",
              "      box-shadow: 0px 1px 3px 1px rgba(0, 0, 0, 0.15);\n",
              "      filter: drop-shadow(0px 1px 2px rgba(0, 0, 0, 0.3));\n",
              "      fill: #FFFFFF;\n",
              "    }\n",
              "  </style>\n",
              "\n",
              "    <script>\n",
              "      const buttonEl =\n",
              "        document.querySelector('#df-d53c2ae3-d482-41e4-afce-45cfafcaeb86 button.colab-df-convert');\n",
              "      buttonEl.style.display =\n",
              "        google.colab.kernel.accessAllowed ? 'block' : 'none';\n",
              "\n",
              "      async function convertToInteractive(key) {\n",
              "        const element = document.querySelector('#df-d53c2ae3-d482-41e4-afce-45cfafcaeb86');\n",
              "        const dataTable =\n",
              "          await google.colab.kernel.invokeFunction('convertToInteractive',\n",
              "                                                    [key], {});\n",
              "        if (!dataTable) return;\n",
              "\n",
              "        const docLinkHtml = 'Like what you see? Visit the ' +\n",
              "          '<a target=\"_blank\" href=https://colab.research.google.com/notebooks/data_table.ipynb>data table notebook</a>'\n",
              "          + ' to learn more about interactive tables.';\n",
              "        element.innerHTML = '';\n",
              "        dataTable['output_type'] = 'display_data';\n",
              "        await google.colab.output.renderOutput(dataTable, element);\n",
              "        const docLink = document.createElement('div');\n",
              "        docLink.innerHTML = docLinkHtml;\n",
              "        element.appendChild(docLink);\n",
              "      }\n",
              "    </script>\n",
              "  </div>\n",
              "\n",
              "\n",
              "<div id=\"df-b058c39a-bc20-4015-8171-48cd4b7ce00c\">\n",
              "  <button class=\"colab-df-quickchart\" onclick=\"quickchart('df-b058c39a-bc20-4015-8171-48cd4b7ce00c')\"\n",
              "            title=\"Suggest charts.\"\n",
              "            style=\"display:none;\">\n",
              "\n",
              "<svg xmlns=\"http://www.w3.org/2000/svg\" height=\"24px\"viewBox=\"0 0 24 24\"\n",
              "     width=\"24px\">\n",
              "    <g>\n",
              "        <path d=\"M19 3H5c-1.1 0-2 .9-2 2v14c0 1.1.9 2 2 2h14c1.1 0 2-.9 2-2V5c0-1.1-.9-2-2-2zM9 17H7v-7h2v7zm4 0h-2V7h2v10zm4 0h-2v-4h2v4z\"/>\n",
              "    </g>\n",
              "</svg>\n",
              "  </button>\n",
              "\n",
              "<style>\n",
              "  .colab-df-quickchart {\n",
              "    background-color: #E8F0FE;\n",
              "    border: none;\n",
              "    border-radius: 50%;\n",
              "    cursor: pointer;\n",
              "    display: none;\n",
              "    fill: #1967D2;\n",
              "    height: 32px;\n",
              "    padding: 0 0 0 0;\n",
              "    width: 32px;\n",
              "  }\n",
              "\n",
              "  .colab-df-quickchart:hover {\n",
              "    background-color: #E2EBFA;\n",
              "    box-shadow: 0px 1px 2px rgba(60, 64, 67, 0.3), 0px 1px 3px 1px rgba(60, 64, 67, 0.15);\n",
              "    fill: #174EA6;\n",
              "  }\n",
              "\n",
              "  [theme=dark] .colab-df-quickchart {\n",
              "    background-color: #3B4455;\n",
              "    fill: #D2E3FC;\n",
              "  }\n",
              "\n",
              "  [theme=dark] .colab-df-quickchart:hover {\n",
              "    background-color: #434B5C;\n",
              "    box-shadow: 0px 1px 3px 1px rgba(0, 0, 0, 0.15);\n",
              "    filter: drop-shadow(0px 1px 2px rgba(0, 0, 0, 0.3));\n",
              "    fill: #FFFFFF;\n",
              "  }\n",
              "</style>\n",
              "\n",
              "  <script>\n",
              "    async function quickchart(key) {\n",
              "      const charts = await google.colab.kernel.invokeFunction(\n",
              "          'suggestCharts', [key], {});\n",
              "    }\n",
              "    (() => {\n",
              "      let quickchartButtonEl =\n",
              "        document.querySelector('#df-b058c39a-bc20-4015-8171-48cd4b7ce00c button');\n",
              "      quickchartButtonEl.style.display =\n",
              "        google.colab.kernel.accessAllowed ? 'block' : 'none';\n",
              "    })();\n",
              "  </script>\n",
              "</div>\n",
              "    </div>\n",
              "  </div>\n"
            ]
          },
          "metadata": {},
          "execution_count": 64
        }
      ]
    },
    {
      "cell_type": "code",
      "source": [
        "x= df[['input']].values\n",
        "y= df[['output']].values"
      ],
      "metadata": {
        "id": "fCcP0JfKTbnu"
      },
      "execution_count": null,
      "outputs": []
    },
    {
      "cell_type": "code",
      "source": [
        "x\n"
      ],
      "metadata": {
        "colab": {
          "base_uri": "https://localhost:8080/"
        },
        "id": "Z_HEbeYsTuum",
        "outputId": "ce4e30c1-9473-4ea8-e66a-d653726812f1"
      },
      "execution_count": null,
      "outputs": [
        {
          "output_type": "execute_result",
          "data": {
            "text/plain": [
              "array([[ 1.],\n",
              "       [ 2.],\n",
              "       [ 3.],\n",
              "       [ 4.],\n",
              "       [ 5.],\n",
              "       [ 6.],\n",
              "       [ 7.],\n",
              "       [ 8.],\n",
              "       [ 9.],\n",
              "       [ 0.],\n",
              "       [11.],\n",
              "       [12.],\n",
              "       [13.],\n",
              "       [14.],\n",
              "       [15.],\n",
              "       [16.],\n",
              "       [17.],\n",
              "       [18.],\n",
              "       [19.],\n",
              "       [21.]])"
            ]
          },
          "metadata": {},
          "execution_count": 66
        }
      ]
    },
    {
      "cell_type": "code",
      "source": [
        "x_train,x_test,y_train,y_test=train_test_split(x,y,test_size=0.33,random_state=33)"
      ],
      "metadata": {
        "id": "KtX3GzBKT2ZN"
      },
      "execution_count": null,
      "outputs": []
    },
    {
      "cell_type": "code",
      "source": [
        "Scaler = MinMaxScaler()"
      ],
      "metadata": {
        "id": "WiIRmCzJU4-h"
      },
      "execution_count": null,
      "outputs": []
    },
    {
      "cell_type": "code",
      "source": [
        "Scaler.fit(x_train)"
      ],
      "metadata": {
        "colab": {
          "base_uri": "https://localhost:8080/",
          "height": 74
        },
        "id": "hWYH7vxhVPfo",
        "outputId": "611ea0dc-9468-4ca1-b010-b426629271bc"
      },
      "execution_count": null,
      "outputs": [
        {
          "output_type": "execute_result",
          "data": {
            "text/plain": [
              "MinMaxScaler()"
            ],
            "text/html": [
              "<style>#sk-container-id-4 {color: black;background-color: white;}#sk-container-id-4 pre{padding: 0;}#sk-container-id-4 div.sk-toggleable {background-color: white;}#sk-container-id-4 label.sk-toggleable__label {cursor: pointer;display: block;width: 100%;margin-bottom: 0;padding: 0.3em;box-sizing: border-box;text-align: center;}#sk-container-id-4 label.sk-toggleable__label-arrow:before {content: \"▸\";float: left;margin-right: 0.25em;color: #696969;}#sk-container-id-4 label.sk-toggleable__label-arrow:hover:before {color: black;}#sk-container-id-4 div.sk-estimator:hover label.sk-toggleable__label-arrow:before {color: black;}#sk-container-id-4 div.sk-toggleable__content {max-height: 0;max-width: 0;overflow: hidden;text-align: left;background-color: #f0f8ff;}#sk-container-id-4 div.sk-toggleable__content pre {margin: 0.2em;color: black;border-radius: 0.25em;background-color: #f0f8ff;}#sk-container-id-4 input.sk-toggleable__control:checked~div.sk-toggleable__content {max-height: 200px;max-width: 100%;overflow: auto;}#sk-container-id-4 input.sk-toggleable__control:checked~label.sk-toggleable__label-arrow:before {content: \"▾\";}#sk-container-id-4 div.sk-estimator input.sk-toggleable__control:checked~label.sk-toggleable__label {background-color: #d4ebff;}#sk-container-id-4 div.sk-label input.sk-toggleable__control:checked~label.sk-toggleable__label {background-color: #d4ebff;}#sk-container-id-4 input.sk-hidden--visually {border: 0;clip: rect(1px 1px 1px 1px);clip: rect(1px, 1px, 1px, 1px);height: 1px;margin: -1px;overflow: hidden;padding: 0;position: absolute;width: 1px;}#sk-container-id-4 div.sk-estimator {font-family: monospace;background-color: #f0f8ff;border: 1px dotted black;border-radius: 0.25em;box-sizing: border-box;margin-bottom: 0.5em;}#sk-container-id-4 div.sk-estimator:hover {background-color: #d4ebff;}#sk-container-id-4 div.sk-parallel-item::after {content: \"\";width: 100%;border-bottom: 1px solid gray;flex-grow: 1;}#sk-container-id-4 div.sk-label:hover label.sk-toggleable__label {background-color: #d4ebff;}#sk-container-id-4 div.sk-serial::before {content: \"\";position: absolute;border-left: 1px solid gray;box-sizing: border-box;top: 0;bottom: 0;left: 50%;z-index: 0;}#sk-container-id-4 div.sk-serial {display: flex;flex-direction: column;align-items: center;background-color: white;padding-right: 0.2em;padding-left: 0.2em;position: relative;}#sk-container-id-4 div.sk-item {position: relative;z-index: 1;}#sk-container-id-4 div.sk-parallel {display: flex;align-items: stretch;justify-content: center;background-color: white;position: relative;}#sk-container-id-4 div.sk-item::before, #sk-container-id-4 div.sk-parallel-item::before {content: \"\";position: absolute;border-left: 1px solid gray;box-sizing: border-box;top: 0;bottom: 0;left: 50%;z-index: -1;}#sk-container-id-4 div.sk-parallel-item {display: flex;flex-direction: column;z-index: 1;position: relative;background-color: white;}#sk-container-id-4 div.sk-parallel-item:first-child::after {align-self: flex-end;width: 50%;}#sk-container-id-4 div.sk-parallel-item:last-child::after {align-self: flex-start;width: 50%;}#sk-container-id-4 div.sk-parallel-item:only-child::after {width: 0;}#sk-container-id-4 div.sk-dashed-wrapped {border: 1px dashed gray;margin: 0 0.4em 0.5em 0.4em;box-sizing: border-box;padding-bottom: 0.4em;background-color: white;}#sk-container-id-4 div.sk-label label {font-family: monospace;font-weight: bold;display: inline-block;line-height: 1.2em;}#sk-container-id-4 div.sk-label-container {text-align: center;}#sk-container-id-4 div.sk-container {/* jupyter's `normalize.less` sets `[hidden] { display: none; }` but bootstrap.min.css set `[hidden] { display: none !important; }` so we also need the `!important` here to be able to override the default hidden behavior on the sphinx rendered scikit-learn.org. See: https://github.com/scikit-learn/scikit-learn/issues/21755 */display: inline-block !important;position: relative;}#sk-container-id-4 div.sk-text-repr-fallback {display: none;}</style><div id=\"sk-container-id-4\" class=\"sk-top-container\"><div class=\"sk-text-repr-fallback\"><pre>MinMaxScaler()</pre><b>In a Jupyter environment, please rerun this cell to show the HTML representation or trust the notebook. <br />On GitHub, the HTML representation is unable to render, please try loading this page with nbviewer.org.</b></div><div class=\"sk-container\" hidden><div class=\"sk-item\"><div class=\"sk-estimator sk-toggleable\"><input class=\"sk-toggleable__control sk-hidden--visually\" id=\"sk-estimator-id-4\" type=\"checkbox\" checked><label for=\"sk-estimator-id-4\" class=\"sk-toggleable__label sk-toggleable__label-arrow\">MinMaxScaler</label><div class=\"sk-toggleable__content\"><pre>MinMaxScaler()</pre></div></div></div></div></div>"
            ]
          },
          "metadata": {},
          "execution_count": 69
        }
      ]
    },
    {
      "cell_type": "code",
      "source": [
        "x_train1=Scaler.transform(x_train)"
      ],
      "metadata": {
        "id": "G0HTANmjWRd3"
      },
      "execution_count": null,
      "outputs": []
    },
    {
      "cell_type": "code",
      "source": [
        "ai_brain=Sequential([\n",
        "    Dense(8,activation='relu'),\n",
        "    Dense(10,activation='relu'),\n",
        "    Dense(1)\n",
        "]\n",
        ")"
      ],
      "metadata": {
        "id": "3s8M8qXuWahJ"
      },
      "execution_count": null,
      "outputs": []
    },
    {
      "cell_type": "code",
      "source": [
        "ai_brain.compile(optimizer='rmsprop',loss='mse')"
      ],
      "metadata": {
        "id": "v7mTnjcPpq8z"
      },
      "execution_count": null,
      "outputs": []
    },
    {
      "cell_type": "code",
      "source": [
        "ai_brain.fit(x_train1,y_train,epochs=200)"
      ],
      "metadata": {
        "colab": {
          "base_uri": "https://localhost:8080/"
        },
        "id": "uSt3G_H-prMa",
        "outputId": "3749169f-e55b-418a-dabf-3a5e12f6a4d8"
      },
      "execution_count": null,
      "outputs": [
        {
          "output_type": "stream",
          "name": "stdout",
          "text": [
            "Epoch 1/200\n",
            "1/1 [==============================] - 0s 499ms/step - loss: 882.9477\n",
            "Epoch 2/200\n",
            "1/1 [==============================] - 0s 9ms/step - loss: 881.5746\n",
            "Epoch 3/200\n",
            "1/1 [==============================] - 0s 10ms/step - loss: 880.5842\n",
            "Epoch 4/200\n",
            "1/1 [==============================] - 0s 16ms/step - loss: 879.7774\n",
            "Epoch 5/200\n",
            "1/1 [==============================] - 0s 16ms/step - loss: 879.0768\n",
            "Epoch 6/200\n",
            "1/1 [==============================] - 0s 10ms/step - loss: 878.4365\n",
            "Epoch 7/200\n",
            "1/1 [==============================] - 0s 11ms/step - loss: 877.8517\n",
            "Epoch 8/200\n",
            "1/1 [==============================] - 0s 11ms/step - loss: 877.2993\n",
            "Epoch 9/200\n",
            "1/1 [==============================] - 0s 10ms/step - loss: 876.7871\n",
            "Epoch 10/200\n",
            "1/1 [==============================] - 0s 9ms/step - loss: 876.3126\n",
            "Epoch 11/200\n",
            "1/1 [==============================] - 0s 11ms/step - loss: 875.8621\n",
            "Epoch 12/200\n",
            "1/1 [==============================] - 0s 9ms/step - loss: 875.4303\n",
            "Epoch 13/200\n",
            "1/1 [==============================] - 0s 10ms/step - loss: 875.0108\n",
            "Epoch 14/200\n",
            "1/1 [==============================] - 0s 16ms/step - loss: 874.5983\n",
            "Epoch 15/200\n",
            "1/1 [==============================] - 0s 11ms/step - loss: 874.1925\n",
            "Epoch 16/200\n",
            "1/1 [==============================] - 0s 9ms/step - loss: 873.7934\n",
            "Epoch 17/200\n",
            "1/1 [==============================] - 0s 10ms/step - loss: 873.4010\n",
            "Epoch 18/200\n",
            "1/1 [==============================] - 0s 10ms/step - loss: 873.0121\n",
            "Epoch 19/200\n",
            "1/1 [==============================] - 0s 10ms/step - loss: 872.6327\n",
            "Epoch 20/200\n",
            "1/1 [==============================] - 0s 9ms/step - loss: 872.2571\n",
            "Epoch 21/200\n",
            "1/1 [==============================] - 0s 8ms/step - loss: 871.8843\n",
            "Epoch 22/200\n",
            "1/1 [==============================] - 0s 9ms/step - loss: 871.5120\n",
            "Epoch 23/200\n",
            "1/1 [==============================] - 0s 10ms/step - loss: 871.1407\n",
            "Epoch 24/200\n",
            "1/1 [==============================] - 0s 8ms/step - loss: 870.7699\n",
            "Epoch 25/200\n",
            "1/1 [==============================] - 0s 9ms/step - loss: 870.3991\n",
            "Epoch 26/200\n",
            "1/1 [==============================] - 0s 11ms/step - loss: 870.0283\n",
            "Epoch 27/200\n",
            "1/1 [==============================] - 0s 9ms/step - loss: 869.6572\n",
            "Epoch 28/200\n",
            "1/1 [==============================] - 0s 9ms/step - loss: 869.2856\n",
            "Epoch 29/200\n",
            "1/1 [==============================] - 0s 10ms/step - loss: 868.9150\n",
            "Epoch 30/200\n",
            "1/1 [==============================] - 0s 9ms/step - loss: 868.5507\n",
            "Epoch 31/200\n",
            "1/1 [==============================] - 0s 9ms/step - loss: 868.1852\n",
            "Epoch 32/200\n",
            "1/1 [==============================] - 0s 10ms/step - loss: 867.8188\n",
            "Epoch 33/200\n",
            "1/1 [==============================] - 0s 13ms/step - loss: 867.4515\n",
            "Epoch 34/200\n",
            "1/1 [==============================] - 0s 14ms/step - loss: 867.0829\n",
            "Epoch 35/200\n",
            "1/1 [==============================] - 0s 10ms/step - loss: 866.7133\n",
            "Epoch 36/200\n",
            "1/1 [==============================] - 0s 9ms/step - loss: 866.3425\n",
            "Epoch 37/200\n",
            "1/1 [==============================] - 0s 10ms/step - loss: 865.9708\n",
            "Epoch 38/200\n",
            "1/1 [==============================] - 0s 9ms/step - loss: 865.5979\n",
            "Epoch 39/200\n",
            "1/1 [==============================] - 0s 9ms/step - loss: 865.2262\n",
            "Epoch 40/200\n",
            "1/1 [==============================] - 0s 10ms/step - loss: 864.8597\n",
            "Epoch 41/200\n",
            "1/1 [==============================] - 0s 11ms/step - loss: 864.4918\n",
            "Epoch 42/200\n",
            "1/1 [==============================] - 0s 14ms/step - loss: 864.1224\n",
            "Epoch 43/200\n",
            "1/1 [==============================] - 0s 8ms/step - loss: 863.7515\n",
            "Epoch 44/200\n",
            "1/1 [==============================] - 0s 9ms/step - loss: 863.3792\n",
            "Epoch 45/200\n",
            "1/1 [==============================] - 0s 9ms/step - loss: 863.0055\n",
            "Epoch 46/200\n",
            "1/1 [==============================] - 0s 9ms/step - loss: 862.6304\n",
            "Epoch 47/200\n",
            "1/1 [==============================] - 0s 9ms/step - loss: 862.2539\n",
            "Epoch 48/200\n",
            "1/1 [==============================] - 0s 10ms/step - loss: 861.8796\n",
            "Epoch 49/200\n",
            "1/1 [==============================] - 0s 9ms/step - loss: 861.5096\n",
            "Epoch 50/200\n",
            "1/1 [==============================] - 0s 8ms/step - loss: 861.1379\n",
            "Epoch 51/200\n",
            "1/1 [==============================] - 0s 11ms/step - loss: 860.7646\n",
            "Epoch 52/200\n",
            "1/1 [==============================] - 0s 9ms/step - loss: 860.3896\n",
            "Epoch 53/200\n",
            "1/1 [==============================] - 0s 9ms/step - loss: 860.0129\n",
            "Epoch 54/200\n",
            "1/1 [==============================] - 0s 9ms/step - loss: 859.6348\n",
            "Epoch 55/200\n",
            "1/1 [==============================] - 0s 9ms/step - loss: 859.2549\n",
            "Epoch 56/200\n",
            "1/1 [==============================] - 0s 9ms/step - loss: 858.8737\n",
            "Epoch 57/200\n",
            "1/1 [==============================] - 0s 9ms/step - loss: 858.4909\n",
            "Epoch 58/200\n",
            "1/1 [==============================] - 0s 11ms/step - loss: 858.1065\n",
            "Epoch 59/200\n",
            "1/1 [==============================] - 0s 10ms/step - loss: 857.7208\n",
            "Epoch 60/200\n",
            "1/1 [==============================] - 0s 10ms/step - loss: 857.3336\n",
            "Epoch 61/200\n",
            "1/1 [==============================] - 0s 9ms/step - loss: 856.9448\n",
            "Epoch 62/200\n",
            "1/1 [==============================] - 0s 9ms/step - loss: 856.5544\n",
            "Epoch 63/200\n",
            "1/1 [==============================] - 0s 9ms/step - loss: 856.1659\n",
            "Epoch 64/200\n",
            "1/1 [==============================] - 0s 12ms/step - loss: 855.7826\n",
            "Epoch 65/200\n",
            "1/1 [==============================] - 0s 11ms/step - loss: 855.3972\n",
            "Epoch 66/200\n",
            "1/1 [==============================] - 0s 9ms/step - loss: 855.0101\n",
            "Epoch 67/200\n",
            "1/1 [==============================] - 0s 13ms/step - loss: 854.6215\n",
            "Epoch 68/200\n",
            "1/1 [==============================] - 0s 9ms/step - loss: 854.2310\n",
            "Epoch 69/200\n",
            "1/1 [==============================] - 0s 12ms/step - loss: 853.8385\n",
            "Epoch 70/200\n",
            "1/1 [==============================] - 0s 10ms/step - loss: 853.4495\n",
            "Epoch 71/200\n",
            "1/1 [==============================] - 0s 9ms/step - loss: 853.0631\n",
            "Epoch 72/200\n",
            "1/1 [==============================] - 0s 8ms/step - loss: 852.6742\n",
            "Epoch 73/200\n",
            "1/1 [==============================] - 0s 8ms/step - loss: 852.2831\n",
            "Epoch 74/200\n",
            "1/1 [==============================] - 0s 8ms/step - loss: 851.8900\n",
            "Epoch 75/200\n",
            "1/1 [==============================] - 0s 10ms/step - loss: 851.4943\n",
            "Epoch 76/200\n",
            "1/1 [==============================] - 0s 9ms/step - loss: 851.0959\n",
            "Epoch 77/200\n",
            "1/1 [==============================] - 0s 8ms/step - loss: 850.6953\n",
            "Epoch 78/200\n",
            "1/1 [==============================] - 0s 10ms/step - loss: 850.2919\n",
            "Epoch 79/200\n",
            "1/1 [==============================] - 0s 8ms/step - loss: 849.8862\n",
            "Epoch 80/200\n",
            "1/1 [==============================] - 0s 8ms/step - loss: 849.4779\n",
            "Epoch 81/200\n",
            "1/1 [==============================] - 0s 8ms/step - loss: 849.0671\n",
            "Epoch 82/200\n",
            "1/1 [==============================] - 0s 7ms/step - loss: 848.6533\n",
            "Epoch 83/200\n",
            "1/1 [==============================] - 0s 9ms/step - loss: 848.2369\n",
            "Epoch 84/200\n",
            "1/1 [==============================] - 0s 9ms/step - loss: 847.8177\n",
            "Epoch 85/200\n",
            "1/1 [==============================] - 0s 9ms/step - loss: 847.3962\n",
            "Epoch 86/200\n",
            "1/1 [==============================] - 0s 11ms/step - loss: 846.9720\n",
            "Epoch 87/200\n",
            "1/1 [==============================] - 0s 9ms/step - loss: 846.5453\n",
            "Epoch 88/200\n",
            "1/1 [==============================] - 0s 15ms/step - loss: 846.1160\n",
            "Epoch 89/200\n",
            "1/1 [==============================] - 0s 9ms/step - loss: 845.6840\n",
            "Epoch 90/200\n",
            "1/1 [==============================] - 0s 7ms/step - loss: 845.2535\n",
            "Epoch 91/200\n",
            "1/1 [==============================] - 0s 8ms/step - loss: 844.8253\n",
            "Epoch 92/200\n",
            "1/1 [==============================] - 0s 8ms/step - loss: 844.3942\n",
            "Epoch 93/200\n",
            "1/1 [==============================] - 0s 10ms/step - loss: 843.9602\n",
            "Epoch 94/200\n",
            "1/1 [==============================] - 0s 9ms/step - loss: 843.5232\n",
            "Epoch 95/200\n",
            "1/1 [==============================] - 0s 8ms/step - loss: 843.0833\n",
            "Epoch 96/200\n",
            "1/1 [==============================] - 0s 10ms/step - loss: 842.6406\n",
            "Epoch 97/200\n",
            "1/1 [==============================] - 0s 9ms/step - loss: 842.1949\n",
            "Epoch 98/200\n",
            "1/1 [==============================] - 0s 9ms/step - loss: 841.7465\n",
            "Epoch 99/200\n",
            "1/1 [==============================] - 0s 8ms/step - loss: 841.2952\n",
            "Epoch 100/200\n",
            "1/1 [==============================] - 0s 11ms/step - loss: 840.8412\n",
            "Epoch 101/200\n",
            "1/1 [==============================] - 0s 10ms/step - loss: 840.3845\n",
            "Epoch 102/200\n",
            "1/1 [==============================] - 0s 12ms/step - loss: 839.9290\n",
            "Epoch 103/200\n",
            "1/1 [==============================] - 0s 8ms/step - loss: 839.4777\n",
            "Epoch 104/200\n",
            "1/1 [==============================] - 0s 12ms/step - loss: 839.0237\n",
            "Epoch 105/200\n",
            "1/1 [==============================] - 0s 8ms/step - loss: 838.5665\n",
            "Epoch 106/200\n",
            "1/1 [==============================] - 0s 11ms/step - loss: 838.1065\n",
            "Epoch 107/200\n",
            "1/1 [==============================] - 0s 8ms/step - loss: 837.6447\n",
            "Epoch 108/200\n",
            "1/1 [==============================] - 0s 12ms/step - loss: 837.1897\n",
            "Epoch 109/200\n",
            "1/1 [==============================] - 0s 8ms/step - loss: 836.7320\n",
            "Epoch 110/200\n",
            "1/1 [==============================] - 0s 11ms/step - loss: 836.2719\n",
            "Epoch 111/200\n",
            "1/1 [==============================] - 0s 8ms/step - loss: 835.8091\n",
            "Epoch 112/200\n",
            "1/1 [==============================] - 0s 9ms/step - loss: 835.3430\n",
            "Epoch 113/200\n",
            "1/1 [==============================] - 0s 12ms/step - loss: 834.8775\n",
            "Epoch 114/200\n",
            "1/1 [==============================] - 0s 8ms/step - loss: 834.4159\n",
            "Epoch 115/200\n",
            "1/1 [==============================] - 0s 7ms/step - loss: 833.9518\n",
            "Epoch 116/200\n",
            "1/1 [==============================] - 0s 7ms/step - loss: 833.4848\n",
            "Epoch 117/200\n",
            "1/1 [==============================] - 0s 15ms/step - loss: 833.0157\n",
            "Epoch 118/200\n",
            "1/1 [==============================] - 0s 9ms/step - loss: 832.5433\n",
            "Epoch 119/200\n",
            "1/1 [==============================] - 0s 11ms/step - loss: 832.0679\n",
            "Epoch 120/200\n",
            "1/1 [==============================] - 0s 16ms/step - loss: 831.5896\n",
            "Epoch 121/200\n",
            "1/1 [==============================] - 0s 12ms/step - loss: 831.1078\n",
            "Epoch 122/200\n",
            "1/1 [==============================] - 0s 8ms/step - loss: 830.6221\n",
            "Epoch 123/200\n",
            "1/1 [==============================] - 0s 8ms/step - loss: 830.1371\n",
            "Epoch 124/200\n",
            "1/1 [==============================] - 0s 13ms/step - loss: 829.6553\n",
            "Epoch 125/200\n",
            "1/1 [==============================] - 0s 12ms/step - loss: 829.1713\n",
            "Epoch 126/200\n",
            "1/1 [==============================] - 0s 8ms/step - loss: 828.6845\n",
            "Epoch 127/200\n",
            "1/1 [==============================] - 0s 11ms/step - loss: 828.1953\n",
            "Epoch 128/200\n",
            "1/1 [==============================] - 0s 8ms/step - loss: 827.7034\n",
            "Epoch 129/200\n",
            "1/1 [==============================] - 0s 12ms/step - loss: 827.2087\n",
            "Epoch 130/200\n",
            "1/1 [==============================] - 0s 8ms/step - loss: 826.7114\n",
            "Epoch 131/200\n",
            "1/1 [==============================] - 0s 11ms/step - loss: 826.2113\n",
            "Epoch 132/200\n",
            "1/1 [==============================] - 0s 8ms/step - loss: 825.7086\n",
            "Epoch 133/200\n",
            "1/1 [==============================] - 0s 12ms/step - loss: 825.2028\n",
            "Epoch 134/200\n",
            "1/1 [==============================] - 0s 8ms/step - loss: 824.6945\n",
            "Epoch 135/200\n",
            "1/1 [==============================] - 0s 10ms/step - loss: 824.1833\n",
            "Epoch 136/200\n",
            "1/1 [==============================] - 0s 9ms/step - loss: 823.6692\n",
            "Epoch 137/200\n",
            "1/1 [==============================] - 0s 7ms/step - loss: 823.1523\n",
            "Epoch 138/200\n",
            "1/1 [==============================] - 0s 14ms/step - loss: 822.6327\n",
            "Epoch 139/200\n",
            "1/1 [==============================] - 0s 11ms/step - loss: 822.1119\n",
            "Epoch 140/200\n",
            "1/1 [==============================] - 0s 12ms/step - loss: 821.5966\n",
            "Epoch 141/200\n",
            "1/1 [==============================] - 0s 8ms/step - loss: 821.0788\n",
            "Epoch 142/200\n",
            "1/1 [==============================] - 0s 12ms/step - loss: 820.5585\n",
            "Epoch 143/200\n",
            "1/1 [==============================] - 0s 8ms/step - loss: 820.0356\n",
            "Epoch 144/200\n",
            "1/1 [==============================] - 0s 8ms/step - loss: 819.5100\n",
            "Epoch 145/200\n",
            "1/1 [==============================] - 0s 21ms/step - loss: 818.9818\n",
            "Epoch 146/200\n",
            "1/1 [==============================] - 0s 9ms/step - loss: 818.4509\n",
            "Epoch 147/200\n",
            "1/1 [==============================] - 0s 8ms/step - loss: 817.9174\n",
            "Epoch 148/200\n",
            "1/1 [==============================] - 0s 8ms/step - loss: 817.3812\n",
            "Epoch 149/200\n",
            "1/1 [==============================] - 0s 10ms/step - loss: 816.8423\n",
            "Epoch 150/200\n",
            "1/1 [==============================] - 0s 13ms/step - loss: 816.3008\n",
            "Epoch 151/200\n",
            "1/1 [==============================] - 0s 9ms/step - loss: 815.7566\n",
            "Epoch 152/200\n",
            "1/1 [==============================] - 0s 8ms/step - loss: 815.2097\n",
            "Epoch 153/200\n",
            "1/1 [==============================] - 0s 8ms/step - loss: 814.6599\n",
            "Epoch 154/200\n",
            "1/1 [==============================] - 0s 8ms/step - loss: 814.1074\n",
            "Epoch 155/200\n",
            "1/1 [==============================] - 0s 9ms/step - loss: 813.5524\n",
            "Epoch 156/200\n",
            "1/1 [==============================] - 0s 9ms/step - loss: 812.9944\n",
            "Epoch 157/200\n",
            "1/1 [==============================] - 0s 9ms/step - loss: 812.4338\n",
            "Epoch 158/200\n",
            "1/1 [==============================] - 0s 10ms/step - loss: 811.8705\n",
            "Epoch 159/200\n",
            "1/1 [==============================] - 0s 9ms/step - loss: 811.3044\n",
            "Epoch 160/200\n",
            "1/1 [==============================] - 0s 8ms/step - loss: 810.7355\n",
            "Epoch 161/200\n",
            "1/1 [==============================] - 0s 9ms/step - loss: 810.1638\n",
            "Epoch 162/200\n",
            "1/1 [==============================] - 0s 7ms/step - loss: 809.5895\n",
            "Epoch 163/200\n",
            "1/1 [==============================] - 0s 9ms/step - loss: 809.0123\n",
            "Epoch 164/200\n",
            "1/1 [==============================] - 0s 10ms/step - loss: 808.4323\n",
            "Epoch 165/200\n",
            "1/1 [==============================] - 0s 9ms/step - loss: 807.8496\n",
            "Epoch 166/200\n",
            "1/1 [==============================] - 0s 7ms/step - loss: 807.2640\n",
            "Epoch 167/200\n",
            "1/1 [==============================] - 0s 6ms/step - loss: 806.6757\n",
            "Epoch 168/200\n",
            "1/1 [==============================] - 0s 12ms/step - loss: 806.0845\n",
            "Epoch 169/200\n",
            "1/1 [==============================] - 0s 14ms/step - loss: 805.4906\n",
            "Epoch 170/200\n",
            "1/1 [==============================] - 0s 12ms/step - loss: 804.8937\n",
            "Epoch 171/200\n",
            "1/1 [==============================] - 0s 9ms/step - loss: 804.2940\n",
            "Epoch 172/200\n",
            "1/1 [==============================] - 0s 7ms/step - loss: 803.6914\n",
            "Epoch 173/200\n",
            "1/1 [==============================] - 0s 7ms/step - loss: 803.0859\n",
            "Epoch 174/200\n",
            "1/1 [==============================] - 0s 14ms/step - loss: 802.4775\n",
            "Epoch 175/200\n",
            "1/1 [==============================] - 0s 14ms/step - loss: 801.8661\n",
            "Epoch 176/200\n",
            "1/1 [==============================] - 0s 10ms/step - loss: 801.2517\n",
            "Epoch 177/200\n",
            "1/1 [==============================] - 0s 7ms/step - loss: 800.6343\n",
            "Epoch 178/200\n",
            "1/1 [==============================] - 0s 10ms/step - loss: 800.0138\n",
            "Epoch 179/200\n",
            "1/1 [==============================] - 0s 10ms/step - loss: 799.3903\n",
            "Epoch 180/200\n",
            "1/1 [==============================] - 0s 6ms/step - loss: 798.7635\n",
            "Epoch 181/200\n",
            "1/1 [==============================] - 0s 7ms/step - loss: 798.1337\n",
            "Epoch 182/200\n",
            "1/1 [==============================] - 0s 7ms/step - loss: 797.5006\n",
            "Epoch 183/200\n",
            "1/1 [==============================] - 0s 7ms/step - loss: 796.8643\n",
            "Epoch 184/200\n",
            "1/1 [==============================] - 0s 9ms/step - loss: 796.2247\n",
            "Epoch 185/200\n",
            "1/1 [==============================] - 0s 15ms/step - loss: 795.5819\n",
            "Epoch 186/200\n",
            "1/1 [==============================] - 0s 7ms/step - loss: 794.9359\n",
            "Epoch 187/200\n",
            "1/1 [==============================] - 0s 7ms/step - loss: 794.2865\n",
            "Epoch 188/200\n",
            "1/1 [==============================] - 0s 11ms/step - loss: 793.6337\n",
            "Epoch 189/200\n",
            "1/1 [==============================] - 0s 9ms/step - loss: 792.9776\n",
            "Epoch 190/200\n",
            "1/1 [==============================] - 0s 8ms/step - loss: 792.3182\n",
            "Epoch 191/200\n",
            "1/1 [==============================] - 0s 14ms/step - loss: 791.6556\n",
            "Epoch 192/200\n",
            "1/1 [==============================] - 0s 12ms/step - loss: 790.9896\n",
            "Epoch 193/200\n",
            "1/1 [==============================] - 0s 6ms/step - loss: 790.3206\n",
            "Epoch 194/200\n",
            "1/1 [==============================] - 0s 7ms/step - loss: 789.6482\n",
            "Epoch 195/200\n",
            "1/1 [==============================] - 0s 10ms/step - loss: 788.9727\n",
            "Epoch 196/200\n",
            "1/1 [==============================] - 0s 9ms/step - loss: 788.2937\n",
            "Epoch 197/200\n",
            "1/1 [==============================] - 0s 7ms/step - loss: 787.6116\n",
            "Epoch 198/200\n",
            "1/1 [==============================] - 0s 6ms/step - loss: 786.9263\n",
            "Epoch 199/200\n",
            "1/1 [==============================] - 0s 8ms/step - loss: 786.2377\n",
            "Epoch 200/200\n",
            "1/1 [==============================] - 0s 6ms/step - loss: 785.5460\n"
          ]
        },
        {
          "output_type": "execute_result",
          "data": {
            "text/plain": [
              "<keras.callbacks.History at 0x7a2a2ae5ceb0>"
            ]
          },
          "metadata": {},
          "execution_count": 73
        }
      ]
    },
    {
      "cell_type": "code",
      "source": [
        "loss_df=pd.DataFrame(ai_brain.history.history)"
      ],
      "metadata": {
        "id": "ITkQAPqXrX4-"
      },
      "execution_count": null,
      "outputs": []
    },
    {
      "cell_type": "code",
      "source": [
        "loss_df.plot()"
      ],
      "metadata": {
        "colab": {
          "base_uri": "https://localhost:8080/",
          "height": 447
        },
        "id": "rjMEzPLkrhD3",
        "outputId": "3e6dab51-8114-46fe-da11-1de2a6da666c"
      },
      "execution_count": null,
      "outputs": [
        {
          "output_type": "execute_result",
          "data": {
            "text/plain": [
              "<Axes: >"
            ]
          },
          "metadata": {},
          "execution_count": 75
        },
        {
          "output_type": "display_data",
          "data": {
            "text/plain": [
              "<Figure size 640x480 with 1 Axes>"
            ],
            "image/png": "[encoded data removed]"
          },
          "metadata": {}
        }
      ]
    },
    {
      "cell_type": "code",
      "source": [
        "\n",
        "ai_brain.evaluate(x_test1,y_test)"
      ],
      "metadata": {
        "colab": {
          "base_uri": "https://localhost:8080/"
        },
        "id": "ssFVgC23r0hC",
        "outputId": "1ba8fc51-3711-43a2-e8d7-c11175e830d6"
      },
      "execution_count": null,
      "outputs": [
        {
          "output_type": "stream",
          "name": "stdout",
          "text": [
            "1/1 [==============================] - 0s 103ms/step - loss: 896.8718\n"
          ]
        },
        {
          "output_type": "execute_result",
          "data": {
            "text/plain": [
              "896.8717651367188"
            ]
          },
          "metadata": {},
          "execution_count": 76
        }
      ]
    },
    {
      "cell_type": "code",
      "source": [
        "x_test1 = Scaler.transform(x_test)\n",
        "x_n1 = [[30]]\n",
        "x_n1_1 = Scaler.transform(x_n1)\n",
        "ai_brain.predict(x_n1_1)"
      ],
      "metadata": {
        "colab": {
          "base_uri": "https://localhost:8080/"
        },
        "id": "ZH27nR0eKqqv",
        "outputId": "16576525-3a24-4b22-87c2-6b0187afd023"
      },
      "execution_count": null,
      "outputs": [
        {
          "output_type": "stream",
          "name": "stdout",
          "text": [
            "1/1 [==============================] - 0s 28ms/step\n"
          ]
        },
        {
          "output_type": "execute_result",
          "data": {
            "text/plain": [
              "array([[2.7820587]], dtype=float32)"
            ]
          },
          "metadata": {},
          "execution_count": 78
        }
      ]
    },
    {
      "cell_type": "code",
      "source": [],
      "metadata": {
        "id": "dfINXhKMLMbP"
      },
      "execution_count": null,
      "outputs": []
    }
  ]
}